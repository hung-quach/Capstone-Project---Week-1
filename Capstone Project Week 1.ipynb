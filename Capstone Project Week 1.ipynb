{
 "cells": [
  {
   "cell_type": "markdown",
   "metadata": {},
   "source": [
    "# Capstone Project - The Battle of the Neighborhoods (Week 1)\n",
    "### Applied Data Science Capstone by IBM/Coursera"
   ]
  },
  {
   "cell_type": "markdown",
   "metadata": {},
   "source": [
    "## Table of contents\n",
    "* [Introduction: Business Problem](#introduction)\n",
    "* [Data](#data)"
   ]
  },
  {
   "cell_type": "markdown",
   "metadata": {},
   "source": [
    "\n",
    "## Introduction: Business Problem <a name=\"introduction\"></a>"
   ]
  },
  {
   "cell_type": "markdown",
   "metadata": {},
   "source": [
    "We will try to find an optimal location to open a cafeteria. Specifically, this report will be targeted to stakeholders interested in opening an **coffee shop** in **Manhattan**, NY. Since there are lots of coffee shops in Manhattan we will try to detect locations that are **not already crowded** with coffee shops. We are also particularly interested in **areas with no Starbucks coffee** in vicinity. We would also prefer locations **as close to city center as possible**.\n",
    "\n",
    "By using data analytics, we will find a few most promissing neighborhoods based on this criteria. Each area will then be evaluated clearly so that best possible final location can be chosen."
   ]
  },
  {
   "cell_type": "markdown",
   "metadata": {},
   "source": [
    "Before we get the data and start exploring it, let's download all the dependencies that we will need."
   ]
  },
  {
   "cell_type": "markdown",
   "metadata": {},
   "source": [
    "## Data <a name=\"data\"></a>"
   ]
  },
  {
   "cell_type": "markdown",
   "metadata": {},
   "source": [
    "Factors that will influence our decission are:\n",
    "* number of existing coffee shops in the neighborhood (any brands)\n",
    "* number of and distance to any coffee shops in the neighborhood, if any\n",
    "* number of and distance to Starbucks coffee in the neighborhood, if any\n",
    "* distance of neighborhood from city center\n",
    "\n",
    "\n",
    "Following data sources will be needed to extract/generate the required information:\n",
    "* New York venue dataset\n",
    "* number of coffee shops and location in every neighborhood will be obtained using **Foursquare API**\n",
    "* coordinate of Manhattan center will be obtained using **Google Maps API geocoding** of well known Manhattan location\n",
    "* centers of candidate areas will be generated algorithmically and approximate addresses of centers of those areas will be obtained using **Google Maps API reverse geocoding**"
   ]
  }
 ],
 "metadata": {
  "kernelspec": {
   "display_name": "Python",
   "language": "python",
   "name": "conda-env-python-py"
  },
  "language_info": {
   "codemirror_mode": {
    "name": "ipython",
    "version": 3
   },
   "file_extension": ".py",
   "mimetype": "text/x-python",
   "name": "python",
   "nbconvert_exporter": "python",
   "pygments_lexer": "ipython3",
   "version": "3.6.10"
  }
 },
 "nbformat": 4,
 "nbformat_minor": 4
}
